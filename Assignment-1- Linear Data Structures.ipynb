{
 "cells": [
  {
   "cell_type": "code",
   "execution_count": 2,
   "id": "3f1df9d9",
   "metadata": {},
   "outputs": [
    {
     "name": "stdout",
     "output_type": "stream",
     "text": [
      "Count of pairs is 4\n"
     ]
    }
   ],
   "source": [
    "# Q1. Write a program to find all pairs of an integer array whose sum is equal to a given number?\n",
    "\n",
    "def findall_pairs(arr, n, sum):\n",
    "    count = 0\n",
    "    for i in range(0, n):\n",
    "        for j in range(i + 1, n):\n",
    "            if arr[i] + arr[j] == sum:\n",
    "                count += 1\n",
    " \n",
    "    return count\n",
    "\n",
    "arr = [1,2,3,4,5,6,7,8,9]\n",
    "n = len(arr)\n",
    "sum = 10\n",
    "print('Count of pairs is',findall_pairs(arr, n, sum))"
   ]
  },
  {
   "cell_type": "code",
   "execution_count": 4,
   "id": "dd3c8556",
   "metadata": {},
   "outputs": [
    {
     "name": "stdout",
     "output_type": "stream",
     "text": [
      "Array is : [77, 43, 80, 77, 56, 35]\n",
      "Reversed array: [35, 56, 77, 80, 43, 77]\n"
     ]
    }
   ],
   "source": [
    "# Q2.reverse an array in place? In place means you cannot create a new array. You have to update the original array.\n",
    "\n",
    "arr = [77,43,80,77,56,35]\n",
    "print('Array is :',arr)\n",
    " \n",
    "res = arr[::-1]\n",
    "print('Reversed array:',res)"
   ]
  },
  {
   "cell_type": "code",
   "execution_count": 6,
   "id": "2169b2a2",
   "metadata": {},
   "outputs": [
    {
     "name": "stdout",
     "output_type": "stream",
     "text": [
      "Second string is a rotation of first string\n"
     ]
    }
   ],
   "source": [
    "# Q3. Write a program to check if two strings are a rotation of each other?  \n",
    "\n",
    "str1 = 'dewa';  \n",
    "str2 = 'wade';  \n",
    "   \n",
    "if(len(str1) != len(str2)):  \n",
    "    print('Second string is not a rotation of first string') \n",
    "else: \n",
    "    try:   \n",
    "        str1 = str1 + str1  \n",
    "        if(str1.index(str2)):  \n",
    "            print('Second string is a rotation of first string')  \n",
    "    except ValueError:  \n",
    "            print('Second string is not a rotation of first string') "
   ]
  },
  {
   "cell_type": "code",
   "execution_count": 7,
   "id": "7b07d42e",
   "metadata": {},
   "outputs": [
    {
     "name": "stdout",
     "output_type": "stream",
     "text": [
      "y\n"
     ]
    }
   ],
   "source": [
    "# Q4. Write a program to print the first non-repeated character from a string?\n",
    "\n",
    "def first_non_repeating_char(str1):\n",
    "    char_order = []\n",
    "    counts = {}\n",
    "    for c in str1:\n",
    "        if c in counts:\n",
    "            counts[c] += 1\n",
    "        else:\n",
    "            counts[c] = 1\n",
    "            char_order.append(c)\n",
    "    for c in char_order:\n",
    "        if counts[c] == 1:\n",
    "            return c\n",
    "    return None\n",
    "\n",
    "print(first_non_repeating_char('mynameisdewashish'))"
   ]
  },
  {
   "cell_type": "code",
   "execution_count": 9,
   "id": "e3975802",
   "metadata": {},
   "outputs": [
    {
     "name": "stdout",
     "output_type": "stream",
     "text": [
      "Enter the number of disks: 3\n",
      "move disk 1 from rod A to rod C.\n",
      "move disk 2 from rod A to rod B.\n",
      "move disk 1 from rod C to rod B.\n",
      "move disk 3 from rod A to rod C.\n",
      "move disk 1 from rod B to rod A.\n",
      "move disk 2 from rod B to rod C.\n",
      "move disk 1 from rod A to rod C.\n"
     ]
    }
   ],
   "source": [
    "# Q5. Read about the Tower of Hanoi algorithm. Write a program to implement it.\n",
    "\n",
    "def tower_of_hanoi(disks, source, auxiliary, target):  \n",
    "    if(disks == 1):  \n",
    "        print('move disk 1 from rod {} to rod {}.'.format(source, target))  \n",
    "        return  \n",
    "    tower_of_hanoi(disks - 1, source, target, auxiliary)  \n",
    "    print('move disk {} from rod {} to rod {}.'.format(disks, source, target))  \n",
    "    tower_of_hanoi(disks - 1, auxiliary, source, target)  \n",
    "  \n",
    "  \n",
    "disks = int(input('Enter the number of disks: '))    \n",
    "tower_of_hanoi(disks, 'A', 'B', 'C')"
   ]
  },
  {
   "cell_type": "code",
   "execution_count": 2,
   "id": "2ac97fef",
   "metadata": {},
   "outputs": [
    {
     "name": "stdout",
     "output_type": "stream",
     "text": [
      "Prefix :  +AB-CD\n"
     ]
    }
   ],
   "source": [
    "# Q6. Read about infix, prefix, and postfix expressions. Write a program to convert postfix to prefix expression.\n",
    "\n",
    "def isOperator(x):\n",
    " \n",
    "    if x == '+':\n",
    "        return True\n",
    " \n",
    "    if x == '-':\n",
    "        return True\n",
    " \n",
    "    if x == '/':\n",
    "        return True\n",
    " \n",
    "    if x == '*':\n",
    "        return True\n",
    " \n",
    "    return False\n",
    " \n",
    "def postToPre(post_exp):\n",
    " \n",
    "    s = []\n",
    " \n",
    "    length = len(post_exp)\n",
    "                 \n",
    "    for i in range(length):\n",
    "                 \n",
    "        if (isOperator(post_exp[i])):\n",
    "            op1 = s[-1]\n",
    "            s.pop()\n",
    "            op2 = s[-1]\n",
    "            s.pop()\n",
    "            temp = post_exp[i] + op2 + op1\n",
    "            s.append(temp)\n",
    "                 \n",
    "        else:\n",
    "            s.append(post_exp[i])\n",
    "   \n",
    "    ans = ''\n",
    "    for i in s:\n",
    "        ans += i\n",
    "    return ans\n",
    " \n",
    "post_exp = 'AB+CD-'\n",
    "print('Prefix : ', postToPre(post_exp))"
   ]
  },
  {
   "cell_type": "code",
   "execution_count": 12,
   "id": "5185baf0",
   "metadata": {},
   "outputs": [
    {
     "name": "stdout",
     "output_type": "stream",
     "text": [
      "(3 + 27)\n"
     ]
    }
   ],
   "source": [
    "# Q7. Write a program to convert prefix expression to infix expression.\n",
    "\n",
    "class Calculator:\n",
    "    def __init__ (self):\n",
    "        self.stack = []\n",
    "\n",
    "    def push (self, p):\n",
    "        if p in ['+', '-', '*', '/']:\n",
    "            op1 = self.stack.pop ()\n",
    "            op2 = self.stack.pop ()\n",
    "            self.stack.append ('(%s %s %s)' % (op1, p, op2) )\n",
    "        elif p == '!':\n",
    "            op = self.stack.pop ()\n",
    "            self.stack.append ('%s!' % (op) )\n",
    "        elif p in ['sin', 'cos', 'tan']:\n",
    "            op = self.stack.pop ()\n",
    "            self.stack.append ('%s(%s)' % (p, op) )\n",
    "        else:\n",
    "            self.stack.append (p)\n",
    "\n",
    "    def convert (self, l):\n",
    "        l.reverse ()\n",
    "        for e in l:\n",
    "            self.push (e)\n",
    "        return self.stack.pop ()\n",
    "    \n",
    "c = Calculator()\n",
    "print (c.convert ( ['+', 3, 27] ))"
   ]
  },
  {
   "cell_type": "code",
   "execution_count": 4,
   "id": "4e30307b",
   "metadata": {},
   "outputs": [
    {
     "name": "stdout",
     "output_type": "stream",
     "text": [
      "Balanced\n"
     ]
    }
   ],
   "source": [
    "# Q8. Write a program to check if all the brackets are closed in a given code snippet.\n",
    "\n",
    "def check_bracket_balanced(expr):\n",
    "    stack = []\n",
    "\n",
    "    for char in expr:\n",
    "        if char in [\"(\", \"{\", \"[\"]:\n",
    "            stack.append(char)\n",
    "        else:\n",
    "            if not stack:\n",
    "                return False\n",
    "            current_char = stack.pop()\n",
    "            if current_char == '(':\n",
    "                if char != \")\":\n",
    "                    return False\n",
    "            if current_char == '{':\n",
    "                if char != '}':\n",
    "                    return False\n",
    "            if current_char == '[':\n",
    "                if char != ']':\n",
    "                    return False\n",
    "    if stack:\n",
    "        return False\n",
    "    return True\n",
    " \n",
    "expr = '[()]{}{[()()]()}'\n",
    "if check_bracket_balanced(expr):\n",
    "    print(\"Balanced\")\n",
    "else:\n",
    "    print(\"Not Balanced\")"
   ]
  },
  {
   "cell_type": "code",
   "execution_count": 23,
   "id": "750c3176",
   "metadata": {},
   "outputs": [
    {
     "name": "stdout",
     "output_type": "stream",
     "text": [
      "Please enter the elements to push: 1 2 4 7 8 9 6 \n",
      "The given stack:\n",
      "6\n",
      "9\n",
      "8\n",
      "7\n",
      "4\n",
      "2\n",
      "1\n",
      "Reversed stack:\n",
      "1\n",
      "2\n",
      "4\n",
      "7\n",
      "8\n",
      "9\n",
      "6\n"
     ]
    }
   ],
   "source": [
    "# Q9. Write a program to reverse a stack.\n",
    "\n",
    "class Stack:\n",
    "    def __init__(self):\n",
    "        self.items = []\n",
    " \n",
    "    def is_empty(self):\n",
    "        return self.items == []\n",
    " \n",
    "    def push(self, data):\n",
    "        self.items.append(data)\n",
    " \n",
    "    def pop(self):\n",
    "        return self.items.pop()\n",
    " \n",
    "    def display(self):\n",
    "        for data in reversed(self.items):\n",
    "            print(data)\n",
    "\n",
    "def insert_at_bottom(s, data):\n",
    "    if s.is_empty():\n",
    "        s.push(data)\n",
    "    else:\n",
    "        popped = s.pop()\n",
    "        insert_at_bottom(s, data)\n",
    "        s.push(popped)\n",
    " \n",
    " \n",
    "def reverse_stack(s):\n",
    "    if not s.is_empty():\n",
    "        popped = s.pop()\n",
    "        reverse_stack(s)\n",
    "        insert_at_bottom(s, popped)\n",
    " \n",
    " \n",
    "s = Stack()\n",
    "data_list = input('Please enter the elements to push: ').split()\n",
    "for data in data_list:\n",
    "    s.push(int(data))\n",
    "\n",
    "print('The given stack:')\n",
    "s.display()\n",
    "reverse_stack(s)\n",
    "print('Reversed stack:')\n",
    "s.display()"
   ]
  },
  {
   "cell_type": "code",
   "execution_count": 16,
   "id": "4dfa3bfe",
   "metadata": {},
   "outputs": [
    {
     "name": "stdout",
     "output_type": "stream",
     "text": [
      "Smallest element in given array:  35\n"
     ]
    }
   ],
   "source": [
    "# Q10. Write a program to find the smallest number using a stack.\n",
    "   \n",
    "arr = [56,47,52,90,35,40];         \n",
    "    \n",
    "min = arr[0];    \n",
    "      \n",
    "for i in range(0, len(arr)):\n",
    "    if(arr[i] < min):\n",
    "        min = arr[i];\n",
    "print('Smallest element in given array: ',(min)) "
   ]
  }
 ],
 "metadata": {
  "kernelspec": {
   "display_name": "Python 3 (ipykernel)",
   "language": "python",
   "name": "python3"
  },
  "language_info": {
   "codemirror_mode": {
    "name": "ipython",
    "version": 3
   },
   "file_extension": ".py",
   "mimetype": "text/x-python",
   "name": "python",
   "nbconvert_exporter": "python",
   "pygments_lexer": "ipython3",
   "version": "3.9.7"
  }
 },
 "nbformat": 4,
 "nbformat_minor": 5
}
